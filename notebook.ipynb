{
 "cells": [
  {
   "cell_type": "code",
   "execution_count": null,
   "metadata": {
    "cell_id": "00012-3f595811-3a11-49c2-93d9-df2b6b08f812",
    "deepnote_cell_height": 243,
    "deepnote_cell_type": "code",
    "deepnote_to_be_reexecuted": false,
    "execution_millis": 1239,
    "execution_start": 1649069349839,
    "source_hash": "90ce3f74",
    "tags": []
   },
   "outputs": [],
   "source": [
    "import pandas as pd\n",
    "from sklearn.svm import SVC\n",
    "from sklearn.ensemble import RandomForestClassifier\n",
    "from sklearn.tree import DecisionTreeClassifier\n",
    "from sklearn.model_selection import train_test_split\n",
    "from sklearn.metrics import classification_report\n",
    "from sklearn.metrics import accuracy_score\n",
    "\n",
    "from sklearn.model_selection import GridSearchCV\n",
    "from sklearn.model_selection import RandomizedSearchCV"
   ]
  },
  {
   "cell_type": "markdown",
   "metadata": {
    "cell_id": "00013-38690ea5-635c-4e92-9189-fa7d5a29a8bd",
    "deepnote_cell_type": "text-cell-h2",
    "is_collapsed": false,
    "tags": []
   },
   "source": [
    "## BFS - Feature set 1"
   ]
  },
  {
   "cell_type": "code",
   "execution_count": null,
   "metadata": {
    "cell_id": "00013-71d4663b-6b0d-4f69-9108-d5558032aa23",
    "deepnote_cell_height": 315,
    "deepnote_cell_type": "code",
    "deepnote_to_be_reexecuted": false,
    "execution_millis": 83,
    "execution_start": 1639302526536,
    "source_hash": "1e39ada6",
    "tags": []
   },
   "outputs": [],
   "source": [
    "obf_df = pd.read_csv(\"obf_bf.csv\")\n",
    "out_df = pd.read_csv(\"real_bf.csv\")\n",
    "obf_df['class']='obf'\n",
    "out_df['class']='real'\n",
    "df = pd.concat([obf_df,out_df])\n",
    "df = df.iloc[: , 1:]\n",
    "df.drop('filename', axis=1, inplace=True)\n",
    "training_set, test_set = train_test_split(df, test_size = 0.2, random_state = 1)\n",
    "X = df.iloc[:,0:188]\n",
    "Y = df.iloc[:,188]\n",
    "X_train = training_set.iloc[:,0:188]\n",
    "Y_train = training_set.iloc[:,188]\n",
    "X_test = test_set.iloc[:,0:188]\n",
    "Y_test = test_set.iloc[:,188]"
   ]
  },
  {
   "cell_type": "markdown",
   "metadata": {
    "cell_id": "00014-c14a81db-9233-42c6-84c1-012c08e3095c",
    "deepnote_cell_type": "text-cell-h3",
    "is_collapsed": false,
    "tags": []
   },
   "source": [
    "### Decision Tree"
   ]
  },
  {
   "cell_type": "code",
   "execution_count": null,
   "metadata": {
    "cell_id": "00016-73d94e47-7557-4dae-b1e4-ae8fd763d1de",
    "deepnote_cell_height": 136.1875,
    "deepnote_cell_type": "code",
    "deepnote_output_heights": [
     21.1875
    ],
    "deepnote_to_be_reexecuted": false,
    "execution_millis": 49,
    "execution_start": 1639302061627,
    "source_hash": "1be459e9",
    "tags": []
   },
   "outputs": [
    {
     "data": {
      "text/plain": [
       "DecisionTreeClassifier(random_state=1)"
      ]
     },
     "execution_count": 3,
     "metadata": {},
     "output_type": "execute_result"
    }
   ],
   "source": [
    "classifier = DecisionTreeClassifier(random_state = 1)\n",
    "classifier.fit(X_train,Y_train)"
   ]
  },
  {
   "cell_type": "code",
   "execution_count": null,
   "metadata": {
    "cell_id": "00017-b520dc12-b762-420c-9116-670802640847",
    "deepnote_cell_height": 117,
    "deepnote_cell_type": "code",
    "deepnote_to_be_reexecuted": false,
    "execution_millis": 14,
    "execution_start": 1639302063507,
    "source_hash": "de3faa76",
    "tags": []
   },
   "outputs": [],
   "source": [
    "Y_pred = classifier.predict(X_test)\n",
    "\n",
    "test_set[\"Tree\"] = Y_pred"
   ]
  },
  {
   "cell_type": "code",
   "execution_count": null,
   "metadata": {
    "cell_id": "00021-a129250d-2c7e-4d38-aec4-ffae8e9589ed",
    "deepnote_cell_height": 112,
    "deepnote_cell_type": "code",
    "deepnote_to_be_reexecuted": false,
    "execution_millis": 2,
    "execution_start": 1639302068786,
    "source_hash": "4e3025e4",
    "tags": []
   },
   "outputs": [
    {
     "name": "stdout",
     "output_type": "stream",
     "text": [
      "0.9463087248322147\n"
     ]
    }
   ],
   "source": [
    "print(accuracy_score(Y_test,Y_pred))"
   ]
  },
  {
   "cell_type": "code",
   "execution_count": null,
   "metadata": {
    "cell_id": "00021-42517d7d-d7ec-4a36-900a-e6970543b9a1",
    "deepnote_cell_height": 261,
    "deepnote_cell_type": "code",
    "deepnote_to_be_reexecuted": false,
    "execution_millis": 23787228,
    "execution_start": 1639224257236,
    "source_hash": "f88cb0c7",
    "tags": []
   },
   "outputs": [],
   "source": [
    "parameters = {\n",
    "    'criterion': ('gini','entropy'), \n",
    "    'splitter': ('best','random'), \n",
    "    'max_depth': [3,4,5,8,10,13,15,20,28,35,42,50], \n",
    "    'min_samples_split': [2,3,5,8,10,15],\n",
    "    'max_features':range(1,189),\n",
    "    'min_samples_leaf' : [1, 2, 5, 10]\n",
    "}\n",
    "optimization = GridSearchCV(classifier, parameters,cv=7)\n",
    "optimization.fit(X_train, Y_train)\n",
    "params = optimization.best_params_"
   ]
  },
  {
   "cell_type": "code",
   "execution_count": null,
   "metadata": {
    "cell_id": "00022-257aaa00-f245-44c6-8ae1-ecd16377fe0a",
    "deepnote_cell_height": 112,
    "deepnote_cell_type": "code",
    "deepnote_to_be_reexecuted": false,
    "execution_millis": 1,
    "execution_start": 1639248044506,
    "source_hash": "8e00aa09",
    "tags": []
   },
   "outputs": [
    {
     "name": "stdout",
     "output_type": "stream",
     "text": [
      "{'criterion': 'gini', 'max_depth': 3, 'max_features': 33, 'min_samples_leaf': 1, 'min_samples_split': 2, 'splitter': 'best'}\n"
     ]
    }
   ],
   "source": [
    "print(params)"
   ]
  },
  {
   "cell_type": "code",
   "execution_count": null,
   "metadata": {
    "cell_id": "00023-fa205c40-af4f-498f-b7ed-067e1dfb24d3",
    "deepnote_cell_height": 153,
    "deepnote_cell_type": "code",
    "deepnote_to_be_reexecuted": false,
    "execution_millis": 0,
    "execution_start": 1639302303706,
    "source_hash": "7bfbf006",
    "tags": []
   },
   "outputs": [],
   "source": [
    "classifier = DecisionTreeClassifier(criterion='gini',max_depth=3,max_features=33,min_samples_leaf=1,min_samples_split=2,splitter='best')\n",
    "classifier.fit(X_train,Y_train)\n",
    "Y_pred = classifier.predict(X_test)\n",
    "\n",
    "test_set[\"H-Tree\"] = Y_pred"
   ]
  },
  {
   "cell_type": "code",
   "execution_count": null,
   "metadata": {
    "cell_id": "00025-6c625f45-6c3c-4612-9684-92337befacb9",
    "deepnote_cell_height": 112,
    "deepnote_cell_type": "code",
    "deepnote_to_be_reexecuted": false,
    "execution_millis": 3,
    "execution_start": 1639302313250,
    "source_hash": "4e3025e4",
    "tags": []
   },
   "outputs": [
    {
     "name": "stdout",
     "output_type": "stream",
     "text": [
      "0.9530201342281879\n"
     ]
    }
   ],
   "source": [
    "print(accuracy_score(Y_test,Y_pred))"
   ]
  },
  {
   "cell_type": "markdown",
   "metadata": {
    "cell_id": "00021-a33d5d48-c8cf-41f7-b5a6-1ca5cb78b925",
    "deepnote_cell_type": "text-cell-h3",
    "is_collapsed": false,
    "tags": []
   },
   "source": [
    "### Random Forest"
   ]
  },
  {
   "cell_type": "code",
   "execution_count": null,
   "metadata": {
    "cell_id": "00022-002a3b0e-9538-4bf4-940f-b0a79122c528",
    "deepnote_cell_height": 136.1875,
    "deepnote_cell_type": "code",
    "deepnote_output_heights": [
     21.1875
    ],
    "deepnote_to_be_reexecuted": false,
    "execution_millis": 644,
    "execution_start": 1639302098696,
    "source_hash": "829b6880",
    "tags": []
   },
   "outputs": [
    {
     "data": {
      "text/plain": [
       "RandomForestClassifier(random_state=1)"
      ]
     },
     "execution_count": 10,
     "metadata": {},
     "output_type": "execute_result"
    }
   ],
   "source": [
    "classifier = RandomForestClassifier(random_state = 1)\n",
    "classifier.fit(X_train,Y_train)"
   ]
  },
  {
   "cell_type": "code",
   "execution_count": null,
   "metadata": {
    "cell_id": "00023-6d2806ff-8592-43ce-8de4-2793cd20b01f",
    "deepnote_cell_height": 117,
    "deepnote_cell_type": "code",
    "deepnote_to_be_reexecuted": false,
    "execution_millis": 1,
    "execution_start": 1639302100817,
    "source_hash": "d21b9e91",
    "tags": []
   },
   "outputs": [],
   "source": [
    "Y_pred = classifier.predict(X_test)\n",
    "\n",
    "test_set[\"Forest\"] = Y_pred"
   ]
  },
  {
   "cell_type": "code",
   "execution_count": null,
   "metadata": {
    "cell_id": "00025-b04c9858-5a3e-420a-98f4-bc984783d74d",
    "deepnote_cell_height": 112,
    "deepnote_cell_type": "code",
    "deepnote_to_be_reexecuted": false,
    "execution_millis": 248,
    "execution_start": 1639302106284,
    "source_hash": "4e3025e4",
    "tags": []
   },
   "outputs": [
    {
     "name": "stdout",
     "output_type": "stream",
     "text": [
      "0.9664429530201343\n"
     ]
    }
   ],
   "source": [
    "print(accuracy_score(Y_test,Y_pred))"
   ]
  },
  {
   "cell_type": "code",
   "execution_count": null,
   "metadata": {
    "cell_id": "00028-eded107e-b549-4ef3-8727-d9b48ba7f9cc",
    "deepnote_cell_height": 279,
    "deepnote_cell_type": "code",
    "deepnote_to_be_reexecuted": false,
    "execution_millis": 2203788,
    "execution_start": 1639299558921,
    "source_hash": "f08eaa68",
    "tags": []
   },
   "outputs": [],
   "source": [
    "parameters = {\n",
    "    'n_estimators': range(10,300,5),\n",
    "    'criterion': ('gini','entropy'), \n",
    "    'max_depth': [3,4,5,8,10,13,15,20,28,35,42,50], \n",
    "    'min_samples_split': [2,3,5,8,10,15],\n",
    "    'max_features':range(1,189),\n",
    "    'min_samples_leaf' : [1, 2, 5, 10],\n",
    "    'bootstrap': [True, False]\n",
    "}\n",
    "optimization = RandomizedSearchCV(classifier, parameters,cv=7,n_iter=300)\n",
    "optimization.fit(X_train, Y_train)\n",
    "params = optimization.best_params_"
   ]
  },
  {
   "cell_type": "code",
   "execution_count": null,
   "metadata": {
    "cell_id": "00029-c24dfc2a-e038-472b-bd61-5b4d3d62029b",
    "deepnote_cell_height": 116.796875,
    "deepnote_cell_type": "code",
    "deepnote_to_be_reexecuted": false,
    "execution_millis": 1,
    "execution_start": 1639301762750,
    "source_hash": "8e00aa09",
    "tags": []
   },
   "outputs": [
    {
     "name": "stdout",
     "output_type": "stream",
     "text": [
      "{'n_estimators': 55, 'min_samples_split': 5, 'min_samples_leaf': 1, 'max_features': 32, 'max_depth': 13, 'criterion': 'entropy', 'bootstrap': False}\n"
     ]
    }
   ],
   "source": [
    "print(params)"
   ]
  },
  {
   "cell_type": "code",
   "execution_count": null,
   "metadata": {
    "cell_id": "00033-ed43f3ae-f69b-4439-855c-a1c205b33b90",
    "deepnote_cell_height": 153,
    "deepnote_cell_type": "code",
    "deepnote_to_be_reexecuted": false,
    "execution_millis": 250,
    "execution_start": 1639302115986,
    "source_hash": "cd7eba19",
    "tags": []
   },
   "outputs": [],
   "source": [
    "classifier = RandomForestClassifier(n_estimators=55,min_samples_split=5,min_samples_leaf=1,max_features=32,max_depth=13,criterion='entropy',bootstrap=False)\n",
    "classifier.fit(X_train,Y_train)\n",
    "Y_pred = classifier.predict(X_test)\n",
    "\n",
    "test_set[\"H-Forest\"] = Y_pred"
   ]
  },
  {
   "cell_type": "code",
   "execution_count": null,
   "metadata": {
    "cell_id": "00035-4d949cae-d61e-4a3c-98cb-f9aa4be1030b",
    "deepnote_cell_height": 112,
    "deepnote_cell_type": "code",
    "deepnote_to_be_reexecuted": false,
    "execution_millis": 5,
    "execution_start": 1639302121165,
    "source_hash": "4e3025e4",
    "tags": []
   },
   "outputs": [
    {
     "name": "stdout",
     "output_type": "stream",
     "text": [
      "0.9664429530201343\n"
     ]
    }
   ],
   "source": [
    "print(accuracy_score(Y_test,Y_pred))"
   ]
  },
  {
   "cell_type": "markdown",
   "metadata": {
    "cell_id": "00025-c4ee87ab-8c10-4fde-b12b-11d9a9007178",
    "deepnote_cell_type": "text-cell-h3",
    "is_collapsed": false,
    "tags": []
   },
   "source": [
    "### SVM"
   ]
  },
  {
   "cell_type": "code",
   "execution_count": null,
   "metadata": {
    "cell_id": "00026-08b02363-93f6-447f-8f3f-7db0c2782a7f",
    "deepnote_cell_height": 136.1875,
    "deepnote_cell_type": "code",
    "deepnote_output_heights": [
     21.1875
    ],
    "deepnote_to_be_reexecuted": false,
    "execution_millis": 219,
    "execution_start": 1639302125193,
    "source_hash": "ac26d929",
    "tags": []
   },
   "outputs": [
    {
     "data": {
      "text/plain": [
       "SVC()"
      ]
     },
     "execution_count": 17,
     "metadata": {},
     "output_type": "execute_result"
    }
   ],
   "source": [
    "classifier = SVC()\n",
    "classifier.fit(X_train,Y_train)"
   ]
  },
  {
   "cell_type": "code",
   "execution_count": null,
   "metadata": {
    "cell_id": "00027-ff440ba4-5cc1-46a4-867c-4df79c96211e",
    "deepnote_cell_height": 117,
    "deepnote_cell_type": "code",
    "deepnote_to_be_reexecuted": false,
    "execution_millis": 13,
    "execution_start": 1639302127693,
    "source_hash": "23207c1c",
    "tags": []
   },
   "outputs": [],
   "source": [
    "Y_pred = classifier.predict(X_test)\n",
    "\n",
    "test_set[\"SVM\"] = Y_pred"
   ]
  },
  {
   "cell_type": "code",
   "execution_count": null,
   "metadata": {
    "cell_id": "00029-7e0fcf4d-82f3-4a7e-9a82-0d94bfb81ddf",
    "deepnote_cell_height": 112,
    "deepnote_cell_type": "code",
    "deepnote_to_be_reexecuted": false,
    "execution_millis": 9,
    "execution_start": 1639302136563,
    "source_hash": "4e3025e4",
    "tags": []
   },
   "outputs": [
    {
     "name": "stdout",
     "output_type": "stream",
     "text": [
      "0.9395973154362416\n"
     ]
    }
   ],
   "source": [
    "print(accuracy_score(Y_test,Y_pred))"
   ]
  },
  {
   "cell_type": "code",
   "execution_count": null,
   "metadata": {
    "cell_id": "00034-a8939c5e-536c-4f1e-90f3-0f02e80a0fd4",
    "deepnote_cell_height": 243,
    "deepnote_cell_type": "code",
    "deepnote_to_be_reexecuted": false,
    "execution_millis": 2323,
    "execution_start": 1639251791297,
    "output_cleared": true,
    "source_hash": "182eef39",
    "tags": []
   },
   "outputs": [],
   "source": [
    "parameters = {\n",
    "    'kernel':('linear','rbf','poly', 'sigmoid'),\n",
    "    'C': [0.1, 1, 10, 100, 1000],\n",
    "    'gamma' : [0.001, 0.01, 0.1, 1, 10, 100],\n",
    "    'degree' : [0, 1, 2, 3, 4, 5, 6, 7, 8, 9, 10]\n",
    "}\n",
    "optimization = GridSearchCV(classifier, parameters,cv=7)\n",
    "optimization.fit(X_train, Y_train)\n",
    "params = optimization.best_params_\n",
    "print(params)"
   ]
  },
  {
   "cell_type": "code",
   "execution_count": null,
   "metadata": {
    "cell_id": "00039-316da75e-fc43-47e0-816f-78b7f6936bb8",
    "deepnote_cell_height": 153,
    "deepnote_cell_type": "code",
    "deepnote_to_be_reexecuted": false,
    "execution_millis": 29,
    "execution_start": 1639302143505,
    "source_hash": "1c59b002",
    "tags": []
   },
   "outputs": [],
   "source": [
    "classifier = SVC(C=0.1, degree=1, gamma=0.01, kernel='poly')\n",
    "classifier.fit(X_train,Y_train)\n",
    "Y_pred = classifier.predict(X_test)\n",
    "\n",
    "test_set[\"H-SVM\"] = Y_pred"
   ]
  },
  {
   "cell_type": "code",
   "execution_count": null,
   "metadata": {
    "cell_id": "00041-3102d29c-8c43-4923-817c-b74e80b21c30",
    "deepnote_cell_height": 112,
    "deepnote_cell_type": "code",
    "deepnote_to_be_reexecuted": false,
    "execution_millis": 6,
    "execution_start": 1639302149796,
    "source_hash": "4e3025e4",
    "tags": []
   },
   "outputs": [
    {
     "name": "stdout",
     "output_type": "stream",
     "text": [
      "0.9731543624161074\n"
     ]
    }
   ],
   "source": [
    "print(accuracy_score(Y_test,Y_pred))"
   ]
  },
  {
   "cell_type": "markdown",
   "metadata": {
    "cell_id": "00046-d66ebdf1-6e12-4100-b499-0a5fec9ff5ad",
    "deepnote_cell_type": "text-cell-h2",
    "is_collapsed": false,
    "tags": []
   },
   "source": [
    "## SFS - Feature set 2"
   ]
  },
  {
   "cell_type": "code",
   "execution_count": null,
   "metadata": {
    "cell_id": "00047-98886e71-1235-4069-925a-ddae5bcc01f4",
    "deepnote_cell_height": 315,
    "deepnote_cell_type": "code",
    "deepnote_to_be_reexecuted": false,
    "execution_millis": 93,
    "execution_start": 1639392713875,
    "source_hash": "e6cb29ed",
    "tags": []
   },
   "outputs": [],
   "source": [
    "obf_df = pd.read_csv(\"obf_sfs.csv\")\n",
    "out_df = pd.read_csv(\"real_sfs.csv\")\n",
    "obf_df['class']='obf'\n",
    "out_df['class']='real'\n",
    "df = pd.concat([obf_df,out_df])\n",
    "df = df.iloc[: , 1:]\n",
    "df.drop('filename', axis=1, inplace=True)\n",
    "training_set, test_set = train_test_split(df, test_size = 0.2, random_state = 1)\n",
    "X = df.iloc[:,0:160]\n",
    "Y = df.iloc[:,160]\n",
    "X_train = training_set.iloc[:,0:160]\n",
    "Y_train = training_set.iloc[:,160]\n",
    "X_test = test_set.iloc[:,0:160]\n",
    "Y_test = test_set.iloc[:,160]"
   ]
  },
  {
   "cell_type": "markdown",
   "metadata": {
    "cell_id": "00048-503f6e99-95e3-4599-99ab-599476193f90",
    "deepnote_cell_type": "text-cell-h3",
    "is_collapsed": false,
    "tags": []
   },
   "source": [
    "### Decision Tree"
   ]
  },
  {
   "cell_type": "code",
   "execution_count": null,
   "metadata": {
    "cell_id": "00048-277f2161-7cd9-4cfd-bffd-14e85b6ee664",
    "deepnote_cell_height": 153,
    "deepnote_cell_type": "code",
    "deepnote_to_be_reexecuted": false,
    "execution_millis": 26,
    "execution_start": 1639302839317,
    "source_hash": "ca41444d",
    "tags": []
   },
   "outputs": [],
   "source": [
    "classifier = DecisionTreeClassifier(random_state = 1)\n",
    "classifier.fit(X_train,Y_train)\n",
    "Y_pred = classifier.predict(X_test)\n",
    "\n",
    "test_set[\"Tree\"] = Y_pred"
   ]
  },
  {
   "cell_type": "code",
   "execution_count": null,
   "metadata": {
    "cell_id": "00050-a03bfa52-b68b-4788-8e43-f6b8f364c5b6",
    "deepnote_cell_height": 112,
    "deepnote_cell_type": "code",
    "deepnote_to_be_reexecuted": false,
    "execution_millis": 6,
    "execution_start": 1639302766000,
    "source_hash": "4e3025e4",
    "tags": []
   },
   "outputs": [
    {
     "name": "stdout",
     "output_type": "stream",
     "text": [
      "0.9328859060402684\n"
     ]
    }
   ],
   "source": [
    "print(accuracy_score(Y_test,Y_pred))"
   ]
  },
  {
   "cell_type": "code",
   "execution_count": null,
   "metadata": {
    "cell_id": "00051-7ee15a20-0efe-490e-9baf-538bf5c190c7",
    "deepnote_cell_height": 310,
    "deepnote_cell_type": "code",
    "deepnote_to_be_reexecuted": false,
    "execution_millis": 1499426,
    "execution_start": 1639302844973,
    "source_hash": "ee58e6f4",
    "tags": []
   },
   "outputs": [
    {
     "name": "stdout",
     "output_type": "stream",
     "text": [
      "{'criterion': 'gini', 'max_depth': 5, 'max_features': 14, 'min_samples_leaf': 5, 'min_samples_split': 2, 'splitter': 'best'}\n"
     ]
    }
   ],
   "source": [
    "parameters = {\n",
    "    'criterion': ('gini','entropy'), \n",
    "    'splitter': ('best','random'), \n",
    "    'max_depth': [3,4,5,8,10,13], \n",
    "    'min_samples_split': [2,3,5,8,10,15],\n",
    "    'max_features':range(3,35),\n",
    "    'min_samples_leaf' : [1, 2, 5, 10]\n",
    "}\n",
    "optimization = GridSearchCV(classifier, parameters,cv=7)\n",
    "optimization.fit(X_train, Y_train)\n",
    "params = optimization.best_params_\n",
    "print(params)"
   ]
  },
  {
   "cell_type": "code",
   "execution_count": null,
   "metadata": {
    "cell_id": "00052-117c71a4-22bd-44bc-a7f1-ffbd2f100463",
    "deepnote_cell_height": 153,
    "deepnote_cell_type": "code",
    "deepnote_to_be_reexecuted": false,
    "execution_millis": 0,
    "execution_start": 1639305105238,
    "source_hash": "92cc7767",
    "tags": []
   },
   "outputs": [],
   "source": [
    "classifier = DecisionTreeClassifier(criterion='gini',max_depth=5,max_features=14,min_samples_leaf=5,min_samples_split=2,splitter='best')\n",
    "classifier.fit(X_train,Y_train)\n",
    "Y_pred = classifier.predict(X_test)\n",
    "\n",
    "test_set[\"H-Tree\"] = Y_pred"
   ]
  },
  {
   "cell_type": "code",
   "execution_count": null,
   "metadata": {
    "cell_id": "00054-b21dfb3d-7eba-4312-b43a-c40cd18ece75",
    "deepnote_cell_height": 112,
    "deepnote_cell_type": "code",
    "deepnote_to_be_reexecuted": false,
    "execution_millis": 41,
    "execution_start": 1639305122193,
    "source_hash": "4e3025e4",
    "tags": []
   },
   "outputs": [
    {
     "name": "stdout",
     "output_type": "stream",
     "text": [
      "0.9530201342281879\n"
     ]
    }
   ],
   "source": [
    "print(accuracy_score(Y_test,Y_pred))"
   ]
  },
  {
   "cell_type": "markdown",
   "metadata": {
    "cell_id": "00056-bc83143f-4afc-46f9-8e0d-6c5505547b7a",
    "deepnote_cell_type": "text-cell-h3",
    "is_collapsed": false,
    "tags": []
   },
   "source": [
    "### Random Forest"
   ]
  },
  {
   "cell_type": "code",
   "execution_count": null,
   "metadata": {
    "cell_id": "00057-2f736fda-2315-44a6-8f68-903fc744c6d3",
    "deepnote_cell_height": 153,
    "deepnote_cell_type": "code",
    "deepnote_to_be_reexecuted": false,
    "execution_millis": 388,
    "execution_start": 1639397395780,
    "source_hash": "1a09b232",
    "tags": []
   },
   "outputs": [],
   "source": [
    "classifier = RandomForestClassifier(random_state = 1)\n",
    "classifier.fit(X_train,Y_train)\n",
    "Y_pred = classifier.predict(X_test)\n",
    "\n",
    "test_set[\"Forest\"] = Y_pred"
   ]
  },
  {
   "cell_type": "code",
   "execution_count": null,
   "metadata": {
    "cell_id": "00059-33ba151f-8ef1-4531-98bd-83a4dbf68f4b",
    "deepnote_cell_height": 112,
    "deepnote_cell_type": "code",
    "deepnote_to_be_reexecuted": false,
    "execution_millis": 6,
    "execution_start": 1639392726387,
    "source_hash": "4e3025e4",
    "tags": []
   },
   "outputs": [
    {
     "name": "stdout",
     "output_type": "stream",
     "text": [
      "0.9664429530201343\n"
     ]
    }
   ],
   "source": [
    "print(accuracy_score(Y_test,Y_pred))"
   ]
  },
  {
   "cell_type": "code",
   "execution_count": null,
   "metadata": {
    "cell_id": "00060-69f973a8-9148-47dd-9fb8-dd13e7d9e1e7",
    "deepnote_cell_height": 332.796875,
    "deepnote_cell_type": "code",
    "deepnote_to_be_reexecuted": false,
    "execution_millis": 698758,
    "execution_start": 1639396425886,
    "source_hash": "1d32e8a5",
    "tags": []
   },
   "outputs": [
    {
     "name": "stdout",
     "output_type": "stream",
     "text": [
      "{'n_estimators': 26, 'min_samples_split': 2, 'min_samples_leaf': 1, 'max_features': 44, 'max_depth': 35, 'criterion': 'entropy', 'bootstrap': False}\n"
     ]
    }
   ],
   "source": [
    "parameters = {\n",
    "    'n_estimators': range(10,70,2),\n",
    "    'criterion': ('gini','entropy'), \n",
    "    'max_depth': [3,4,5,8,10,13,15,20,28,35,42,50], \n",
    "    'min_samples_split': [2,3,5,8,10,15],\n",
    "    'max_features':range(1,50),\n",
    "    'min_samples_leaf' : [1, 2, 5],\n",
    "    'bootstrap': [True, False]\n",
    "}\n",
    "optimization = RandomizedSearchCV(classifier, parameters,cv=7,n_iter=500)\n",
    "optimization.fit(X_train, Y_train)\n",
    "params = optimization.best_params_\n",
    "print(params)"
   ]
  },
  {
   "cell_type": "code",
   "execution_count": null,
   "metadata": {
    "cell_id": "00061-8fd22ae0-b4f3-4d41-b278-e2993e942575",
    "deepnote_cell_height": 153,
    "deepnote_cell_type": "code",
    "deepnote_to_be_reexecuted": false,
    "execution_millis": 370,
    "execution_start": 1639397400500,
    "source_hash": "fa51f692",
    "tags": []
   },
   "outputs": [],
   "source": [
    "classifier = RandomForestClassifier(n_estimators=56,min_samples_split=2,min_samples_leaf=1,max_features=28,max_depth=8,criterion='entropy',bootstrap=False)\n",
    "classifier.fit(X_train,Y_train)\n",
    "Y_pred = classifier.predict(X_test)\n",
    "\n",
    "test_set[\"H-Forest\"] = Y_pred"
   ]
  },
  {
   "cell_type": "code",
   "execution_count": null,
   "metadata": {
    "cell_id": "00063-e3551c98-ec1f-4492-85ce-940cd542a073",
    "deepnote_cell_height": 112,
    "deepnote_cell_type": "code",
    "deepnote_to_be_reexecuted": false,
    "execution_millis": 0,
    "execution_start": 1639397404913,
    "source_hash": "4e3025e4",
    "tags": []
   },
   "outputs": [
    {
     "name": "stdout",
     "output_type": "stream",
     "text": [
      "0.959731543624161\n"
     ]
    }
   ],
   "source": [
    "print(accuracy_score(Y_test,Y_pred))"
   ]
  },
  {
   "cell_type": "markdown",
   "metadata": {
    "cell_id": "00064-abe561db-9a6d-414a-b143-04c9374dd34a",
    "deepnote_cell_type": "text-cell-h3",
    "is_collapsed": false,
    "owner_user_id": "e15ecff6-61cb-46d5-bfd3-a180eb5e5a79",
    "tags": []
   },
   "source": [
    "### SVM"
   ]
  },
  {
   "cell_type": "code",
   "execution_count": null,
   "metadata": {
    "cell_id": "00065-2eef4b90-798d-43bd-affa-426cb39f32e8",
    "deepnote_cell_height": 153,
    "deepnote_cell_type": "code",
    "deepnote_to_be_reexecuted": false,
    "execution_millis": 1,
    "execution_start": 1639304609207,
    "source_hash": "81973548",
    "tags": []
   },
   "outputs": [],
   "source": [
    "classifier = SVC()\n",
    "classifier.fit(X_train,Y_train)\n",
    "Y_pred = classifier.predict(X_test)\n",
    "\n",
    "test_set[\"SVM\"] = Y_pred"
   ]
  },
  {
   "cell_type": "code",
   "execution_count": null,
   "metadata": {
    "cell_id": "00067-411656d6-e07c-4a04-a41c-b981d471952b",
    "deepnote_cell_height": 112,
    "deepnote_cell_type": "code",
    "deepnote_to_be_reexecuted": false,
    "execution_start": 1639304609238,
    "source_hash": "4e3025e4",
    "tags": []
   },
   "outputs": [
    {
     "name": "stdout",
     "output_type": "stream",
     "text": [
      "0.9395973154362416\n"
     ]
    }
   ],
   "source": [
    "print(accuracy_score(Y_test,Y_pred))"
   ]
  },
  {
   "cell_type": "code",
   "execution_count": null,
   "metadata": {
    "cell_id": "00068-1c665991-8a6a-47af-846a-7f20da27c8ac",
    "deepnote_cell_height": 274,
    "deepnote_cell_type": "code",
    "deepnote_to_be_reexecuted": false,
    "execution_millis": 448825,
    "execution_start": 1639304609249,
    "source_hash": "182eef39",
    "tags": []
   },
   "outputs": [
    {
     "name": "stdout",
     "output_type": "stream",
     "text": [
      "{'C': 0.1, 'degree': 0, 'gamma': 0.001, 'kernel': 'linear'}\n"
     ]
    }
   ],
   "source": [
    "parameters = {\n",
    "    'kernel':('linear','rbf','poly', 'sigmoid'),\n",
    "    'C': [0.1, 1, 10, 100, 1000],\n",
    "    'gamma' : [0.001, 0.01, 0.1, 1, 10, 100],\n",
    "    'degree' : [0, 1, 2, 3, 4, 5, 6, 7, 8, 9, 10]\n",
    "}\n",
    "optimization = GridSearchCV(classifier, parameters,cv=7)\n",
    "optimization.fit(X_train, Y_train)\n",
    "params = optimization.best_params_\n",
    "print(params)"
   ]
  },
  {
   "cell_type": "code",
   "execution_count": null,
   "metadata": {
    "cell_id": "00069-1af9c0c5-cf4a-41e1-9261-e5750afc6cb2",
    "deepnote_cell_height": 153,
    "deepnote_cell_type": "code",
    "deepnote_to_be_reexecuted": false,
    "execution_millis": 134,
    "execution_start": 1639305227731,
    "source_hash": "315a907",
    "tags": []
   },
   "outputs": [],
   "source": [
    "classifier = SVC(C=0.1, degree=0, gamma=0.001, kernel='linear')\n",
    "classifier.fit(X_train,Y_train)\n",
    "Y_pred = classifier.predict(X_test)\n",
    "\n",
    "test_set[\"H-SVM\"] = Y_pred"
   ]
  },
  {
   "cell_type": "code",
   "execution_count": null,
   "metadata": {
    "cell_id": "00071-888973c9-b500-4f87-a72e-e406c3c92315",
    "deepnote_cell_height": 112,
    "deepnote_cell_type": "code",
    "deepnote_to_be_reexecuted": false,
    "execution_millis": 7,
    "execution_start": 1639305234066,
    "source_hash": "4e3025e4",
    "tags": []
   },
   "outputs": [
    {
     "name": "stdout",
     "output_type": "stream",
     "text": [
      "0.9865771812080537\n"
     ]
    }
   ],
   "source": [
    "print(accuracy_score(Y_test,Y_pred))"
   ]
  },
  {
   "cell_type": "markdown",
   "metadata": {
    "cell_id": "c4dbf1a1654e4f71a22a9536b7625b3c",
    "deepnote_cell_type": "text-cell-h2",
    "is_collapsed": false,
    "tags": []
   },
   "source": [
    "## QUILLBOT - BF"
   ]
  },
  {
   "cell_type": "code",
   "execution_count": null,
   "metadata": {
    "cell_id": "f2cdcbc1aecd4ddb91fec3ec93e7aed3",
    "deepnote_cell_height": 603,
    "deepnote_cell_type": "code",
    "deepnote_to_be_reexecuted": false,
    "execution_millis": 45,
    "execution_start": 1649069530492,
    "source_hash": "37573d95",
    "tags": []
   },
   "outputs": [],
   "source": [
    "obf_df = pd.read_csv(\"obf_bf.csv\")\n",
    "out_df = pd.read_csv(\"real_bf.csv\")\n",
    "quill_df = pd.read_csv(\"quillbot_bf.csv\")\n",
    "\n",
    "obf_df['class']='obf'\n",
    "out_df['class']='real'\n",
    "quill_df['class']='obf'\n",
    "\n",
    "df = pd.concat([obf_df,out_df])\n",
    "df = df.iloc[: , 1:]\n",
    "df.drop('filename', axis=1, inplace=True)\n",
    "training_set, test_set = train_test_split(df, test_size = 0.2, random_state = 1)\n",
    "X1 = df.iloc[:,0:188]\n",
    "Y1 = df.iloc[:,188]\n",
    "X1_train = training_set.iloc[:,0:188]\n",
    "Y1_train = training_set.iloc[:,188]\n",
    "X1_test = test_set.iloc[:,0:188]\n",
    "Y1_test = test_set.iloc[:,188]\n",
    "\n",
    "df = pd.concat([quill_df,out_df])\n",
    "df = df.iloc[: , 1:]\n",
    "df.drop('filename', axis=1, inplace=True)\n",
    "training_set, test_set = train_test_split(df, test_size = 0.2, random_state = 1)\n",
    "X2 = df.iloc[:,0:188]\n",
    "Y2 = df.iloc[:,188]\n",
    "X2_train = training_set.iloc[:,0:188]\n",
    "Y2_train = training_set.iloc[:,188]\n",
    "X2_test = test_set.iloc[:,0:188]\n",
    "Y2_test = test_set.iloc[:,188]\n"
   ]
  },
  {
   "cell_type": "code",
   "execution_count": null,
   "metadata": {
    "cell_id": "d61217efd4f54abe8d2f5e2088047042",
    "deepnote_cell_height": 136.1875,
    "deepnote_cell_type": "code",
    "deepnote_output_heights": [
     21.1875
    ],
    "deepnote_to_be_reexecuted": false,
    "execution_millis": 161,
    "execution_start": 1649069534249,
    "source_hash": "f49b99c2",
    "tags": []
   },
   "outputs": [
    {
     "data": {
      "text/plain": [
       "SVC()"
      ]
     },
     "execution_count": 12,
     "metadata": {},
     "output_type": "execute_result"
    }
   ],
   "source": [
    "classifier = SVC()\n",
    "classifier.fit(X2_train,Y2_train)"
   ]
  },
  {
   "cell_type": "code",
   "execution_count": null,
   "metadata": {
    "cell_id": "dedc5c21219241558cb93be4f9bf2a4d",
    "deepnote_cell_height": 117,
    "deepnote_cell_type": "code",
    "deepnote_to_be_reexecuted": false,
    "execution_millis": 10,
    "execution_start": 1649069537290,
    "source_hash": "78a34694",
    "tags": []
   },
   "outputs": [],
   "source": [
    "Y2_pred = classifier.predict(X2_test)\n",
    "\n",
    "test_set[\"SVM\"] = Y2_pred"
   ]
  },
  {
   "cell_type": "code",
   "execution_count": null,
   "metadata": {
    "cell_id": "ecfacc48ef7048368703943d10e6c714",
    "deepnote_cell_height": 112,
    "deepnote_cell_type": "code",
    "deepnote_to_be_reexecuted": false,
    "execution_millis": 7,
    "execution_start": 1649069545230,
    "source_hash": "5a3029db",
    "tags": []
   },
   "outputs": [
    {
     "name": "stdout",
     "output_type": "stream",
     "text": [
      "0.9395973154362416\n"
     ]
    }
   ],
   "source": [
    "print(accuracy_score(Y2_test,Y2_pred))"
   ]
  },
  {
   "cell_type": "code",
   "execution_count": null,
   "metadata": {
    "cell_id": "d61123ba0fe74725940b3ea5665354ef",
    "deepnote_cell_height": 153,
    "deepnote_cell_type": "code",
    "deepnote_to_be_reexecuted": false,
    "execution_millis": 21,
    "execution_start": 1649069548277,
    "source_hash": "2d76024e",
    "tags": []
   },
   "outputs": [],
   "source": [
    "classifier = SVC(C=0.1, degree=1, gamma=0.01, kernel='poly')\n",
    "classifier.fit(X2_train,Y2_train)\n",
    "Y2_pred = classifier.predict(X2_test)\n",
    "\n",
    "test_set[\"H-SVM\"] = Y2_pred"
   ]
  },
  {
   "cell_type": "code",
   "execution_count": null,
   "metadata": {
    "cell_id": "410a99ed830045f69c12e4abec7b04d9",
    "deepnote_cell_height": 112,
    "deepnote_cell_type": "code",
    "deepnote_to_be_reexecuted": false,
    "execution_millis": 2,
    "execution_start": 1649069558743,
    "source_hash": "5a3029db",
    "tags": []
   },
   "outputs": [
    {
     "name": "stdout",
     "output_type": "stream",
     "text": [
      "0.9664429530201343\n"
     ]
    }
   ],
   "source": [
    "print(accuracy_score(Y2_test,Y2_pred))"
   ]
  },
  {
   "cell_type": "markdown",
   "metadata": {
    "cell_id": "d0466280179842c9bcd3a472ee6c2e04",
    "deepnote_cell_type": "text-cell-h2",
    "is_collapsed": false,
    "tags": []
   },
   "source": [
    "## QUILLBOT - SFS"
   ]
  },
  {
   "cell_type": "code",
   "execution_count": null,
   "metadata": {
    "cell_id": "840684b184204311950bc0c3d0f249fa",
    "deepnote_cell_height": 585,
    "deepnote_cell_type": "code",
    "deepnote_to_be_reexecuted": false,
    "execution_millis": 60,
    "execution_start": 1649070936103,
    "source_hash": "60f5fd2c",
    "tags": []
   },
   "outputs": [],
   "source": [
    "obf_df = pd.read_csv(\"obf_sfs.csv\")\n",
    "out_df = pd.read_csv(\"real_sfs.csv\")\n",
    "quill_df = pd.read_csv(\"quillbot_sfs.csv\")\n",
    "\n",
    "obf_df['class']='obf'\n",
    "out_df['class']='real'\n",
    "quill_df['class']='obf'\n",
    "\n",
    "df = pd.concat([obf_df,out_df])\n",
    "df = df.iloc[: , 1:]\n",
    "df.drop('filename', axis=1, inplace=True)\n",
    "training_set, test_set = train_test_split(df, test_size = 0.2, random_state = 1)\n",
    "X1 = df.iloc[:,0:160]\n",
    "Y1 = df.iloc[:,160]\n",
    "X1_train = training_set.iloc[:,0:160]\n",
    "Y1_train = training_set.iloc[:,160]\n",
    "X1_test = test_set.iloc[:,0:160]\n",
    "Y1_test = test_set.iloc[:,160]\n",
    "\n",
    "df = pd.concat([quill_df,out_df])\n",
    "df = df.iloc[: , 1:]\n",
    "df.drop('filename', axis=1, inplace=True)\n",
    "training_set, test_set = train_test_split(df, test_size = 0.2, random_state = 1)\n",
    "X2 = df.iloc[:,0:160]\n",
    "Y2 = df.iloc[:,160]\n",
    "X2_train = training_set.iloc[:,0:160]\n",
    "Y2_train = training_set.iloc[:,160]\n",
    "X2_test = test_set.iloc[:,0:160]\n",
    "Y2_test = test_set.iloc[:,160]"
   ]
  },
  {
   "cell_type": "code",
   "execution_count": null,
   "metadata": {
    "cell_id": "17ac00214b7844899eabad17098749cb",
    "deepnote_cell_height": 136.1875,
    "deepnote_cell_type": "code",
    "deepnote_output_heights": [
     21.1875
    ],
    "deepnote_to_be_reexecuted": false,
    "execution_millis": 498,
    "execution_start": 1649070939517,
    "source_hash": "bbb910f4",
    "tags": []
   },
   "outputs": [
    {
     "data": {
      "text/plain": [
       "SVC()"
      ]
     },
     "execution_count": 33,
     "metadata": {},
     "output_type": "execute_result"
    }
   ],
   "source": [
    "classifier = SVC()\n",
    "classifier.fit(X1_train,Y1_train)"
   ]
  },
  {
   "cell_type": "code",
   "execution_count": null,
   "metadata": {
    "cell_id": "856bcb30e1f045db933d2ead3e7bd952",
    "deepnote_cell_height": 117,
    "deepnote_cell_type": "code",
    "deepnote_to_be_reexecuted": false,
    "execution_millis": 1,
    "execution_start": 1649070942478,
    "source_hash": "78a34694",
    "tags": []
   },
   "outputs": [],
   "source": [
    "Y2_pred = classifier.predict(X2_test)\n",
    "\n",
    "test_set[\"SVM\"] = Y2_pred"
   ]
  },
  {
   "cell_type": "code",
   "execution_count": null,
   "metadata": {
    "cell_id": "a17ceb1c7a2f4d9a9e60ee335da35bb0",
    "deepnote_cell_height": 112,
    "deepnote_cell_type": "code",
    "deepnote_to_be_reexecuted": false,
    "execution_millis": 248,
    "execution_start": 1649070949990,
    "source_hash": "5a3029db",
    "tags": []
   },
   "outputs": [
    {
     "name": "stdout",
     "output_type": "stream",
     "text": [
      "0.9395973154362416\n"
     ]
    }
   ],
   "source": [
    "print(accuracy_score(Y2_test,Y2_pred))"
   ]
  },
  {
   "cell_type": "code",
   "execution_count": null,
   "metadata": {
    "cell_id": "aff2777e86754da58c4582c23c77585f",
    "deepnote_cell_height": 153,
    "deepnote_cell_type": "code",
    "deepnote_to_be_reexecuted": false,
    "execution_millis": 88,
    "execution_start": 1649070952599,
    "source_hash": "d8db9ed3",
    "tags": []
   },
   "outputs": [],
   "source": [
    "classifier = SVC(C=0.1, degree=0, gamma=0.001, kernel='linear')\n",
    "classifier.fit(X1_train,Y1_train)\n",
    "Y2_pred = classifier.predict(X2_test)\n",
    "\n",
    "test_set[\"H-SVM\"] = Y2_pred"
   ]
  },
  {
   "cell_type": "code",
   "execution_count": null,
   "metadata": {
    "cell_id": "8091cdb53f474d37affc15bac4d323fd",
    "deepnote_cell_height": 112,
    "deepnote_cell_type": "code",
    "deepnote_to_be_reexecuted": false,
    "execution_millis": 1,
    "execution_start": 1649070805250,
    "source_hash": "5a3029db",
    "tags": []
   },
   "outputs": [
    {
     "name": "stdout",
     "output_type": "stream",
     "text": [
      "0.9194630872483222\n"
     ]
    }
   ],
   "source": [
    "print(accuracy_score(Y2_test,Y2_pred))"
   ]
  },
  {
   "cell_type": "markdown",
   "metadata": {
    "created_in_deepnote_cell": true,
    "deepnote_cell_type": "markdown",
    "tags": []
   },
   "source": [
    "<a style='text-decoration:none;line-height:16px;display:flex;color:#5B5B62;padding:10px;justify-content:end;' href='https://deepnote.com?utm_source=created-in-deepnote-cell&projectId=dd350cc0-81ed-480c-baaf-f203ee8ea981' target=\"_blank\">\n",
    "<img alt='Created in deepnote.com' style='display:inline;max-height:16px;margin:0px;margin-right:7.5px;' src='data:image/svg+xml;base64,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' > </img>\n",
    "Created in <span style='font-weight:600;margin-left:4px;'>Deepnote</span></a>"
   ]
  }
 ],
 "metadata": {
  "deepnote": {
   "is_reactive": false
  },
  "deepnote_execution_queue": [],
  "deepnote_notebook_id": "a6c4de81-7100-42ab-a6fd-a97d7afe6386",
  "language_info": {
   "name": "python"
  },
  "orig_nbformat": 2
 },
 "nbformat": 4,
 "nbformat_minor": 2
}
